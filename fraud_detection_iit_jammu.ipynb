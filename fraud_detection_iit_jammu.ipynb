{
 "cells": [
  {
   "cell_type": "markdown",
   "id": "cee0c85f-bd00-4b5f-a236-13c5885c5341",
   "metadata": {},
   "source": [
    "Fraud Detection in Online payment"
   ]
  },
  {
   "cell_type": "code",
   "execution_count": 183,
   "id": "75d19cdf-47c6-4452-99bb-25eda89882af",
   "metadata": {},
   "outputs": [],
   "source": [
    "import pandas as pd\n",
    "import numpy as np\n",
    "import matplotlib.pyplot as plt\n",
    "import seaborn as sns\n",
    "from sklearn.preprocessing import LabelEncoder"
   ]
  },
  {
   "cell_type": "markdown",
   "id": "48f65471-1bab-4a55-9681-727af91aeb62",
   "metadata": {},
   "source": [
    "# loading Data"
   ]
  },
  {
   "cell_type": "code",
   "execution_count": 185,
   "id": "e3521f41-5ed4-413d-837c-24d8605f2e6e",
   "metadata": {},
   "outputs": [
    {
     "data": {
      "text/html": [
       "<div>\n",
       "<style scoped>\n",
       "    .dataframe tbody tr th:only-of-type {\n",
       "        vertical-align: middle;\n",
       "    }\n",
       "\n",
       "    .dataframe tbody tr th {\n",
       "        vertical-align: top;\n",
       "    }\n",
       "\n",
       "    .dataframe thead th {\n",
       "        text-align: right;\n",
       "    }\n",
       "</style>\n",
       "<table border=\"1\" class=\"dataframe\">\n",
       "  <thead>\n",
       "    <tr style=\"text-align: right;\">\n",
       "      <th></th>\n",
       "      <th>step</th>\n",
       "      <th>type</th>\n",
       "      <th>amount</th>\n",
       "      <th>nameOrig</th>\n",
       "      <th>oldbalanceOrg</th>\n",
       "      <th>newbalanceOrig</th>\n",
       "      <th>nameDest</th>\n",
       "      <th>oldbalanceDest</th>\n",
       "      <th>newbalanceDest</th>\n",
       "      <th>isFraud</th>\n",
       "      <th>isFlaggedFraud</th>\n",
       "    </tr>\n",
       "  </thead>\n",
       "  <tbody>\n",
       "    <tr>\n",
       "      <th>0</th>\n",
       "      <td>1</td>\n",
       "      <td>PAYMENT</td>\n",
       "      <td>9839.64</td>\n",
       "      <td>C1231006815</td>\n",
       "      <td>170136.00</td>\n",
       "      <td>160296.36</td>\n",
       "      <td>M1979787155</td>\n",
       "      <td>0.00</td>\n",
       "      <td>0.00</td>\n",
       "      <td>0</td>\n",
       "      <td>0</td>\n",
       "    </tr>\n",
       "    <tr>\n",
       "      <th>1</th>\n",
       "      <td>1</td>\n",
       "      <td>PAYMENT</td>\n",
       "      <td>1864.28</td>\n",
       "      <td>C1666544295</td>\n",
       "      <td>21249.00</td>\n",
       "      <td>19384.72</td>\n",
       "      <td>M2044282225</td>\n",
       "      <td>0.00</td>\n",
       "      <td>0.00</td>\n",
       "      <td>0</td>\n",
       "      <td>0</td>\n",
       "    </tr>\n",
       "    <tr>\n",
       "      <th>2</th>\n",
       "      <td>1</td>\n",
       "      <td>TRANSFER</td>\n",
       "      <td>181.00</td>\n",
       "      <td>C1305486145</td>\n",
       "      <td>181.00</td>\n",
       "      <td>0.00</td>\n",
       "      <td>C553264065</td>\n",
       "      <td>0.00</td>\n",
       "      <td>0.00</td>\n",
       "      <td>1</td>\n",
       "      <td>0</td>\n",
       "    </tr>\n",
       "    <tr>\n",
       "      <th>3</th>\n",
       "      <td>1</td>\n",
       "      <td>CASH_OUT</td>\n",
       "      <td>181.00</td>\n",
       "      <td>C840083671</td>\n",
       "      <td>181.00</td>\n",
       "      <td>0.00</td>\n",
       "      <td>C38997010</td>\n",
       "      <td>21182.00</td>\n",
       "      <td>0.00</td>\n",
       "      <td>1</td>\n",
       "      <td>0</td>\n",
       "    </tr>\n",
       "    <tr>\n",
       "      <th>4</th>\n",
       "      <td>1</td>\n",
       "      <td>PAYMENT</td>\n",
       "      <td>11668.14</td>\n",
       "      <td>C2048537720</td>\n",
       "      <td>41554.00</td>\n",
       "      <td>29885.86</td>\n",
       "      <td>M1230701703</td>\n",
       "      <td>0.00</td>\n",
       "      <td>0.00</td>\n",
       "      <td>0</td>\n",
       "      <td>0</td>\n",
       "    </tr>\n",
       "    <tr>\n",
       "      <th>...</th>\n",
       "      <td>...</td>\n",
       "      <td>...</td>\n",
       "      <td>...</td>\n",
       "      <td>...</td>\n",
       "      <td>...</td>\n",
       "      <td>...</td>\n",
       "      <td>...</td>\n",
       "      <td>...</td>\n",
       "      <td>...</td>\n",
       "      <td>...</td>\n",
       "      <td>...</td>\n",
       "    </tr>\n",
       "    <tr>\n",
       "      <th>6362615</th>\n",
       "      <td>743</td>\n",
       "      <td>CASH_OUT</td>\n",
       "      <td>339682.13</td>\n",
       "      <td>C786484425</td>\n",
       "      <td>339682.13</td>\n",
       "      <td>0.00</td>\n",
       "      <td>C776919290</td>\n",
       "      <td>0.00</td>\n",
       "      <td>339682.13</td>\n",
       "      <td>1</td>\n",
       "      <td>0</td>\n",
       "    </tr>\n",
       "    <tr>\n",
       "      <th>6362616</th>\n",
       "      <td>743</td>\n",
       "      <td>TRANSFER</td>\n",
       "      <td>6311409.28</td>\n",
       "      <td>C1529008245</td>\n",
       "      <td>6311409.28</td>\n",
       "      <td>0.00</td>\n",
       "      <td>C1881841831</td>\n",
       "      <td>0.00</td>\n",
       "      <td>0.00</td>\n",
       "      <td>1</td>\n",
       "      <td>0</td>\n",
       "    </tr>\n",
       "    <tr>\n",
       "      <th>6362617</th>\n",
       "      <td>743</td>\n",
       "      <td>CASH_OUT</td>\n",
       "      <td>6311409.28</td>\n",
       "      <td>C1162922333</td>\n",
       "      <td>6311409.28</td>\n",
       "      <td>0.00</td>\n",
       "      <td>C1365125890</td>\n",
       "      <td>68488.84</td>\n",
       "      <td>6379898.11</td>\n",
       "      <td>1</td>\n",
       "      <td>0</td>\n",
       "    </tr>\n",
       "    <tr>\n",
       "      <th>6362618</th>\n",
       "      <td>743</td>\n",
       "      <td>TRANSFER</td>\n",
       "      <td>850002.52</td>\n",
       "      <td>C1685995037</td>\n",
       "      <td>850002.52</td>\n",
       "      <td>0.00</td>\n",
       "      <td>C2080388513</td>\n",
       "      <td>0.00</td>\n",
       "      <td>0.00</td>\n",
       "      <td>1</td>\n",
       "      <td>0</td>\n",
       "    </tr>\n",
       "    <tr>\n",
       "      <th>6362619</th>\n",
       "      <td>743</td>\n",
       "      <td>CASH_OUT</td>\n",
       "      <td>850002.52</td>\n",
       "      <td>C1280323807</td>\n",
       "      <td>850002.52</td>\n",
       "      <td>0.00</td>\n",
       "      <td>C873221189</td>\n",
       "      <td>6510099.11</td>\n",
       "      <td>7360101.63</td>\n",
       "      <td>1</td>\n",
       "      <td>0</td>\n",
       "    </tr>\n",
       "  </tbody>\n",
       "</table>\n",
       "<p>6362620 rows × 11 columns</p>\n",
       "</div>"
      ],
      "text/plain": [
       "         step      type      amount     nameOrig  oldbalanceOrg  \\\n",
       "0           1   PAYMENT     9839.64  C1231006815      170136.00   \n",
       "1           1   PAYMENT     1864.28  C1666544295       21249.00   \n",
       "2           1  TRANSFER      181.00  C1305486145         181.00   \n",
       "3           1  CASH_OUT      181.00   C840083671         181.00   \n",
       "4           1   PAYMENT    11668.14  C2048537720       41554.00   \n",
       "...       ...       ...         ...          ...            ...   \n",
       "6362615   743  CASH_OUT   339682.13   C786484425      339682.13   \n",
       "6362616   743  TRANSFER  6311409.28  C1529008245     6311409.28   \n",
       "6362617   743  CASH_OUT  6311409.28  C1162922333     6311409.28   \n",
       "6362618   743  TRANSFER   850002.52  C1685995037      850002.52   \n",
       "6362619   743  CASH_OUT   850002.52  C1280323807      850002.52   \n",
       "\n",
       "         newbalanceOrig     nameDest  oldbalanceDest  newbalanceDest  isFraud  \\\n",
       "0             160296.36  M1979787155            0.00            0.00        0   \n",
       "1              19384.72  M2044282225            0.00            0.00        0   \n",
       "2                  0.00   C553264065            0.00            0.00        1   \n",
       "3                  0.00    C38997010        21182.00            0.00        1   \n",
       "4              29885.86  M1230701703            0.00            0.00        0   \n",
       "...                 ...          ...             ...             ...      ...   \n",
       "6362615            0.00   C776919290            0.00       339682.13        1   \n",
       "6362616            0.00  C1881841831            0.00            0.00        1   \n",
       "6362617            0.00  C1365125890        68488.84      6379898.11        1   \n",
       "6362618            0.00  C2080388513            0.00            0.00        1   \n",
       "6362619            0.00   C873221189      6510099.11      7360101.63        1   \n",
       "\n",
       "         isFlaggedFraud  \n",
       "0                     0  \n",
       "1                     0  \n",
       "2                     0  \n",
       "3                     0  \n",
       "4                     0  \n",
       "...                 ...  \n",
       "6362615               0  \n",
       "6362616               0  \n",
       "6362617               0  \n",
       "6362618               0  \n",
       "6362619               0  \n",
       "\n",
       "[6362620 rows x 11 columns]"
      ]
     },
     "execution_count": 185,
     "metadata": {},
     "output_type": "execute_result"
    }
   ],
   "source": [
    "online=pd.read_csv('D:/data/online_fraud detection.csv')\n",
    "online"
   ]
  },
  {
   "cell_type": "markdown",
   "id": "ff355f92-1008-4283-a83b-7e66be7e5e13",
   "metadata": {},
   "source": [
    "# preprocessing the Data"
   ]
  },
  {
   "cell_type": "code",
   "execution_count": 187,
   "id": "ebdf5e2b-864e-4cdc-8a2b-48bf62ec1425",
   "metadata": {},
   "outputs": [
    {
     "name": "stdout",
     "output_type": "stream",
     "text": [
      "<class 'pandas.core.frame.DataFrame'>\n",
      "RangeIndex: 6362620 entries, 0 to 6362619\n",
      "Data columns (total 11 columns):\n",
      " #   Column          Dtype  \n",
      "---  ------          -----  \n",
      " 0   step            int64  \n",
      " 1   type            object \n",
      " 2   amount          float64\n",
      " 3   nameOrig        object \n",
      " 4   oldbalanceOrg   float64\n",
      " 5   newbalanceOrig  float64\n",
      " 6   nameDest        object \n",
      " 7   oldbalanceDest  float64\n",
      " 8   newbalanceDest  float64\n",
      " 9   isFraud         int64  \n",
      " 10  isFlaggedFraud  int64  \n",
      "dtypes: float64(5), int64(3), object(3)\n",
      "memory usage: 534.0+ MB\n"
     ]
    }
   ],
   "source": [
    "online.info()"
   ]
  },
  {
   "cell_type": "code",
   "execution_count": 189,
   "id": "6d89b5f4-8ec8-4bc0-bc62-ba2e483376a8",
   "metadata": {},
   "outputs": [
    {
     "data": {
      "text/plain": [
       "(isFraud\n",
       " 0    6354407\n",
       " 1       8213\n",
       " Name: count, dtype: int64,\n",
       " isFlaggedFraud\n",
       " 0    6362604\n",
       " 1         16\n",
       " Name: count, dtype: int64)"
      ]
     },
     "execution_count": 189,
     "metadata": {},
     "output_type": "execute_result"
    }
   ],
   "source": [
    "online.isFraud.value_counts(),online.isFlaggedFraud.value_counts() # here imbalance dataset present so we will use bootstraping"
   ]
  },
  {
   "cell_type": "code",
   "execution_count": 191,
   "id": "d35eb263-b0a1-4164-8f4d-1d3fdd0990a6",
   "metadata": {},
   "outputs": [
    {
     "data": {
      "text/plain": [
       "(6362620, 11)"
      ]
     },
     "execution_count": 191,
     "metadata": {},
     "output_type": "execute_result"
    }
   ],
   "source": [
    "online.shape"
   ]
  },
  {
   "cell_type": "code",
   "execution_count": 193,
   "id": "06407e23-fc7f-4405-b593-31af49314d9b",
   "metadata": {},
   "outputs": [
    {
     "data": {
      "text/plain": [
       "Index(['step', 'type', 'amount', 'nameorig', 'oldbalanceorg', 'newbalanceorig',\n",
       "       'namedest', 'oldbalancedest', 'newbalancedest', 'isfraud',\n",
       "       'isflaggedfraud'],\n",
       "      dtype='object')"
      ]
     },
     "execution_count": 193,
     "metadata": {},
     "output_type": "execute_result"
    }
   ],
   "source": [
    "online.columns=[i.lower() for i in online.columns]\n",
    "online.columns"
   ]
  },
  {
   "cell_type": "code",
   "execution_count": 195,
   "id": "4389b3f2-6d72-4e31-a953-c7f4a862ffce",
   "metadata": {},
   "outputs": [
    {
     "data": {
      "text/html": [
       "<div>\n",
       "<style scoped>\n",
       "    .dataframe tbody tr th:only-of-type {\n",
       "        vertical-align: middle;\n",
       "    }\n",
       "\n",
       "    .dataframe tbody tr th {\n",
       "        vertical-align: top;\n",
       "    }\n",
       "\n",
       "    .dataframe thead th {\n",
       "        text-align: right;\n",
       "    }\n",
       "</style>\n",
       "<table border=\"1\" class=\"dataframe\">\n",
       "  <thead>\n",
       "    <tr style=\"text-align: right;\">\n",
       "      <th></th>\n",
       "      <th>step</th>\n",
       "      <th>type</th>\n",
       "      <th>amount</th>\n",
       "      <th>nameorig</th>\n",
       "      <th>oldbalanceorg</th>\n",
       "      <th>newbalanceorig</th>\n",
       "      <th>namedest</th>\n",
       "      <th>oldbalancedest</th>\n",
       "      <th>newbalancedest</th>\n",
       "      <th>isfraud</th>\n",
       "      <th>isflaggedfraud</th>\n",
       "    </tr>\n",
       "  </thead>\n",
       "  <tbody>\n",
       "    <tr>\n",
       "      <th>0</th>\n",
       "      <td>1</td>\n",
       "      <td>PAYMENT</td>\n",
       "      <td>9839.64</td>\n",
       "      <td>C1231006815</td>\n",
       "      <td>170136.0</td>\n",
       "      <td>160296.36</td>\n",
       "      <td>M1979787155</td>\n",
       "      <td>0.0</td>\n",
       "      <td>0.0</td>\n",
       "      <td>0</td>\n",
       "      <td>0</td>\n",
       "    </tr>\n",
       "    <tr>\n",
       "      <th>1</th>\n",
       "      <td>1</td>\n",
       "      <td>PAYMENT</td>\n",
       "      <td>1864.28</td>\n",
       "      <td>C1666544295</td>\n",
       "      <td>21249.0</td>\n",
       "      <td>19384.72</td>\n",
       "      <td>M2044282225</td>\n",
       "      <td>0.0</td>\n",
       "      <td>0.0</td>\n",
       "      <td>0</td>\n",
       "      <td>0</td>\n",
       "    </tr>\n",
       "    <tr>\n",
       "      <th>2</th>\n",
       "      <td>1</td>\n",
       "      <td>TRANSFER</td>\n",
       "      <td>181.00</td>\n",
       "      <td>C1305486145</td>\n",
       "      <td>181.0</td>\n",
       "      <td>0.00</td>\n",
       "      <td>C553264065</td>\n",
       "      <td>0.0</td>\n",
       "      <td>0.0</td>\n",
       "      <td>1</td>\n",
       "      <td>0</td>\n",
       "    </tr>\n",
       "    <tr>\n",
       "      <th>3</th>\n",
       "      <td>1</td>\n",
       "      <td>CASH_OUT</td>\n",
       "      <td>181.00</td>\n",
       "      <td>C840083671</td>\n",
       "      <td>181.0</td>\n",
       "      <td>0.00</td>\n",
       "      <td>C38997010</td>\n",
       "      <td>21182.0</td>\n",
       "      <td>0.0</td>\n",
       "      <td>1</td>\n",
       "      <td>0</td>\n",
       "    </tr>\n",
       "    <tr>\n",
       "      <th>4</th>\n",
       "      <td>1</td>\n",
       "      <td>PAYMENT</td>\n",
       "      <td>11668.14</td>\n",
       "      <td>C2048537720</td>\n",
       "      <td>41554.0</td>\n",
       "      <td>29885.86</td>\n",
       "      <td>M1230701703</td>\n",
       "      <td>0.0</td>\n",
       "      <td>0.0</td>\n",
       "      <td>0</td>\n",
       "      <td>0</td>\n",
       "    </tr>\n",
       "  </tbody>\n",
       "</table>\n",
       "</div>"
      ],
      "text/plain": [
       "   step      type    amount     nameorig  oldbalanceorg  newbalanceorig  \\\n",
       "0     1   PAYMENT   9839.64  C1231006815       170136.0       160296.36   \n",
       "1     1   PAYMENT   1864.28  C1666544295        21249.0        19384.72   \n",
       "2     1  TRANSFER    181.00  C1305486145          181.0            0.00   \n",
       "3     1  CASH_OUT    181.00   C840083671          181.0            0.00   \n",
       "4     1   PAYMENT  11668.14  C2048537720        41554.0        29885.86   \n",
       "\n",
       "      namedest  oldbalancedest  newbalancedest  isfraud  isflaggedfraud  \n",
       "0  M1979787155             0.0             0.0        0               0  \n",
       "1  M2044282225             0.0             0.0        0               0  \n",
       "2   C553264065             0.0             0.0        1               0  \n",
       "3    C38997010         21182.0             0.0        1               0  \n",
       "4  M1230701703             0.0             0.0        0               0  "
      ]
     },
     "execution_count": 195,
     "metadata": {},
     "output_type": "execute_result"
    }
   ],
   "source": [
    "online.head()"
   ]
  },
  {
   "cell_type": "code",
   "execution_count": 197,
   "id": "640a156a-668a-403c-b0ee-2fd5614cc628",
   "metadata": {},
   "outputs": [
    {
     "data": {
      "text/plain": [
       "(type\n",
       " CASH_OUT    2237500\n",
       " PAYMENT     2151495\n",
       " CASH_IN     1399284\n",
       " TRANSFER     532909\n",
       " DEBIT         41432\n",
       " Name: count, dtype: int64,\n",
       " step\n",
       " 19     51352\n",
       " 18     49579\n",
       " 187    49083\n",
       " 235    47491\n",
       " 307    46968\n",
       "        ...  \n",
       " 432        4\n",
       " 706        4\n",
       " 693        4\n",
       " 112        2\n",
       " 662        2\n",
       " Name: count, Length: 743, dtype: int64)"
      ]
     },
     "execution_count": 197,
     "metadata": {},
     "output_type": "execute_result"
    }
   ],
   "source": [
    "online.type.value_counts(),online.step.value_counts()"
   ]
  },
  {
   "cell_type": "code",
   "execution_count": 199,
   "id": "1a3376c3-67f7-47d3-aa00-aa8b39943d2d",
   "metadata": {},
   "outputs": [
    {
     "data": {
      "text/html": [
       "<div>\n",
       "<style scoped>\n",
       "    .dataframe tbody tr th:only-of-type {\n",
       "        vertical-align: middle;\n",
       "    }\n",
       "\n",
       "    .dataframe tbody tr th {\n",
       "        vertical-align: top;\n",
       "    }\n",
       "\n",
       "    .dataframe thead th {\n",
       "        text-align: right;\n",
       "    }\n",
       "</style>\n",
       "<table border=\"1\" class=\"dataframe\">\n",
       "  <thead>\n",
       "    <tr style=\"text-align: right;\">\n",
       "      <th></th>\n",
       "      <th>step</th>\n",
       "      <th>amount</th>\n",
       "      <th>oldbalanceorg</th>\n",
       "      <th>newbalanceorig</th>\n",
       "      <th>oldbalancedest</th>\n",
       "      <th>newbalancedest</th>\n",
       "      <th>isfraud</th>\n",
       "      <th>isflaggedfraud</th>\n",
       "    </tr>\n",
       "  </thead>\n",
       "  <tbody>\n",
       "    <tr>\n",
       "      <th>count</th>\n",
       "      <td>6.362620e+06</td>\n",
       "      <td>6.362620e+06</td>\n",
       "      <td>6.362620e+06</td>\n",
       "      <td>6.362620e+06</td>\n",
       "      <td>6.362620e+06</td>\n",
       "      <td>6.362620e+06</td>\n",
       "      <td>6.362620e+06</td>\n",
       "      <td>6.362620e+06</td>\n",
       "    </tr>\n",
       "    <tr>\n",
       "      <th>mean</th>\n",
       "      <td>2.433972e+02</td>\n",
       "      <td>1.798619e+05</td>\n",
       "      <td>8.338831e+05</td>\n",
       "      <td>8.551137e+05</td>\n",
       "      <td>1.100702e+06</td>\n",
       "      <td>1.224996e+06</td>\n",
       "      <td>1.290820e-03</td>\n",
       "      <td>2.514687e-06</td>\n",
       "    </tr>\n",
       "    <tr>\n",
       "      <th>std</th>\n",
       "      <td>1.423320e+02</td>\n",
       "      <td>6.038582e+05</td>\n",
       "      <td>2.888243e+06</td>\n",
       "      <td>2.924049e+06</td>\n",
       "      <td>3.399180e+06</td>\n",
       "      <td>3.674129e+06</td>\n",
       "      <td>3.590480e-02</td>\n",
       "      <td>1.585775e-03</td>\n",
       "    </tr>\n",
       "    <tr>\n",
       "      <th>min</th>\n",
       "      <td>1.000000e+00</td>\n",
       "      <td>0.000000e+00</td>\n",
       "      <td>0.000000e+00</td>\n",
       "      <td>0.000000e+00</td>\n",
       "      <td>0.000000e+00</td>\n",
       "      <td>0.000000e+00</td>\n",
       "      <td>0.000000e+00</td>\n",
       "      <td>0.000000e+00</td>\n",
       "    </tr>\n",
       "    <tr>\n",
       "      <th>25%</th>\n",
       "      <td>1.560000e+02</td>\n",
       "      <td>1.338957e+04</td>\n",
       "      <td>0.000000e+00</td>\n",
       "      <td>0.000000e+00</td>\n",
       "      <td>0.000000e+00</td>\n",
       "      <td>0.000000e+00</td>\n",
       "      <td>0.000000e+00</td>\n",
       "      <td>0.000000e+00</td>\n",
       "    </tr>\n",
       "    <tr>\n",
       "      <th>50%</th>\n",
       "      <td>2.390000e+02</td>\n",
       "      <td>7.487194e+04</td>\n",
       "      <td>1.420800e+04</td>\n",
       "      <td>0.000000e+00</td>\n",
       "      <td>1.327057e+05</td>\n",
       "      <td>2.146614e+05</td>\n",
       "      <td>0.000000e+00</td>\n",
       "      <td>0.000000e+00</td>\n",
       "    </tr>\n",
       "    <tr>\n",
       "      <th>75%</th>\n",
       "      <td>3.350000e+02</td>\n",
       "      <td>2.087215e+05</td>\n",
       "      <td>1.073152e+05</td>\n",
       "      <td>1.442584e+05</td>\n",
       "      <td>9.430367e+05</td>\n",
       "      <td>1.111909e+06</td>\n",
       "      <td>0.000000e+00</td>\n",
       "      <td>0.000000e+00</td>\n",
       "    </tr>\n",
       "    <tr>\n",
       "      <th>max</th>\n",
       "      <td>7.430000e+02</td>\n",
       "      <td>9.244552e+07</td>\n",
       "      <td>5.958504e+07</td>\n",
       "      <td>4.958504e+07</td>\n",
       "      <td>3.560159e+08</td>\n",
       "      <td>3.561793e+08</td>\n",
       "      <td>1.000000e+00</td>\n",
       "      <td>1.000000e+00</td>\n",
       "    </tr>\n",
       "  </tbody>\n",
       "</table>\n",
       "</div>"
      ],
      "text/plain": [
       "               step        amount  oldbalanceorg  newbalanceorig  \\\n",
       "count  6.362620e+06  6.362620e+06   6.362620e+06    6.362620e+06   \n",
       "mean   2.433972e+02  1.798619e+05   8.338831e+05    8.551137e+05   \n",
       "std    1.423320e+02  6.038582e+05   2.888243e+06    2.924049e+06   \n",
       "min    1.000000e+00  0.000000e+00   0.000000e+00    0.000000e+00   \n",
       "25%    1.560000e+02  1.338957e+04   0.000000e+00    0.000000e+00   \n",
       "50%    2.390000e+02  7.487194e+04   1.420800e+04    0.000000e+00   \n",
       "75%    3.350000e+02  2.087215e+05   1.073152e+05    1.442584e+05   \n",
       "max    7.430000e+02  9.244552e+07   5.958504e+07    4.958504e+07   \n",
       "\n",
       "       oldbalancedest  newbalancedest       isfraud  isflaggedfraud  \n",
       "count    6.362620e+06    6.362620e+06  6.362620e+06    6.362620e+06  \n",
       "mean     1.100702e+06    1.224996e+06  1.290820e-03    2.514687e-06  \n",
       "std      3.399180e+06    3.674129e+06  3.590480e-02    1.585775e-03  \n",
       "min      0.000000e+00    0.000000e+00  0.000000e+00    0.000000e+00  \n",
       "25%      0.000000e+00    0.000000e+00  0.000000e+00    0.000000e+00  \n",
       "50%      1.327057e+05    2.146614e+05  0.000000e+00    0.000000e+00  \n",
       "75%      9.430367e+05    1.111909e+06  0.000000e+00    0.000000e+00  \n",
       "max      3.560159e+08    3.561793e+08  1.000000e+00    1.000000e+00  "
      ]
     },
     "execution_count": 199,
     "metadata": {},
     "output_type": "execute_result"
    }
   ],
   "source": [
    "online.describe() # here object type not come"
   ]
  },
  {
   "cell_type": "code",
   "execution_count": 200,
   "id": "76c6cf5f-ef1d-491c-ba99-a59b347e4754",
   "metadata": {},
   "outputs": [
    {
     "data": {
      "text/plain": [
       "step              0\n",
       "type              0\n",
       "amount            0\n",
       "nameorig          0\n",
       "oldbalanceorg     0\n",
       "newbalanceorig    0\n",
       "namedest          0\n",
       "oldbalancedest    0\n",
       "newbalancedest    0\n",
       "isfraud           0\n",
       "isflaggedfraud    0\n",
       "dtype: int64"
      ]
     },
     "execution_count": 200,
     "metadata": {},
     "output_type": "execute_result"
    }
   ],
   "source": [
    "# checking the missing value \n",
    "online.isnull().sum()  # no null value present NaN or Nothing"
   ]
  },
  {
   "cell_type": "code",
   "execution_count": 201,
   "id": "17e28a9e-d3a4-49bf-876a-34db6e603bab",
   "metadata": {},
   "outputs": [
    {
     "data": {
      "text/html": [
       "<div>\n",
       "<style scoped>\n",
       "    .dataframe tbody tr th:only-of-type {\n",
       "        vertical-align: middle;\n",
       "    }\n",
       "\n",
       "    .dataframe tbody tr th {\n",
       "        vertical-align: top;\n",
       "    }\n",
       "\n",
       "    .dataframe thead th {\n",
       "        text-align: right;\n",
       "    }\n",
       "</style>\n",
       "<table border=\"1\" class=\"dataframe\">\n",
       "  <thead>\n",
       "    <tr style=\"text-align: right;\">\n",
       "      <th></th>\n",
       "      <th>step</th>\n",
       "      <th>type</th>\n",
       "      <th>amount</th>\n",
       "      <th>oldbalanceorg</th>\n",
       "      <th>newbalanceorig</th>\n",
       "      <th>oldbalancedest</th>\n",
       "      <th>newbalancedest</th>\n",
       "      <th>isfraud</th>\n",
       "      <th>isflaggedfraud</th>\n",
       "    </tr>\n",
       "  </thead>\n",
       "  <tbody>\n",
       "    <tr>\n",
       "      <th>0</th>\n",
       "      <td>1</td>\n",
       "      <td>PAYMENT</td>\n",
       "      <td>9839.64</td>\n",
       "      <td>170136.0</td>\n",
       "      <td>160296.36</td>\n",
       "      <td>0.0</td>\n",
       "      <td>0.0</td>\n",
       "      <td>0</td>\n",
       "      <td>0</td>\n",
       "    </tr>\n",
       "    <tr>\n",
       "      <th>1</th>\n",
       "      <td>1</td>\n",
       "      <td>PAYMENT</td>\n",
       "      <td>1864.28</td>\n",
       "      <td>21249.0</td>\n",
       "      <td>19384.72</td>\n",
       "      <td>0.0</td>\n",
       "      <td>0.0</td>\n",
       "      <td>0</td>\n",
       "      <td>0</td>\n",
       "    </tr>\n",
       "    <tr>\n",
       "      <th>2</th>\n",
       "      <td>1</td>\n",
       "      <td>TRANSFER</td>\n",
       "      <td>181.00</td>\n",
       "      <td>181.0</td>\n",
       "      <td>0.00</td>\n",
       "      <td>0.0</td>\n",
       "      <td>0.0</td>\n",
       "      <td>1</td>\n",
       "      <td>0</td>\n",
       "    </tr>\n",
       "    <tr>\n",
       "      <th>3</th>\n",
       "      <td>1</td>\n",
       "      <td>CASH_OUT</td>\n",
       "      <td>181.00</td>\n",
       "      <td>181.0</td>\n",
       "      <td>0.00</td>\n",
       "      <td>21182.0</td>\n",
       "      <td>0.0</td>\n",
       "      <td>1</td>\n",
       "      <td>0</td>\n",
       "    </tr>\n",
       "    <tr>\n",
       "      <th>4</th>\n",
       "      <td>1</td>\n",
       "      <td>PAYMENT</td>\n",
       "      <td>11668.14</td>\n",
       "      <td>41554.0</td>\n",
       "      <td>29885.86</td>\n",
       "      <td>0.0</td>\n",
       "      <td>0.0</td>\n",
       "      <td>0</td>\n",
       "      <td>0</td>\n",
       "    </tr>\n",
       "  </tbody>\n",
       "</table>\n",
       "</div>"
      ],
      "text/plain": [
       "   step      type    amount  oldbalanceorg  newbalanceorig  oldbalancedest  \\\n",
       "0     1   PAYMENT   9839.64       170136.0       160296.36             0.0   \n",
       "1     1   PAYMENT   1864.28        21249.0        19384.72             0.0   \n",
       "2     1  TRANSFER    181.00          181.0            0.00             0.0   \n",
       "3     1  CASH_OUT    181.00          181.0            0.00         21182.0   \n",
       "4     1   PAYMENT  11668.14        41554.0        29885.86             0.0   \n",
       "\n",
       "   newbalancedest  isfraud  isflaggedfraud  \n",
       "0             0.0        0               0  \n",
       "1             0.0        0               0  \n",
       "2             0.0        1               0  \n",
       "3             0.0        1               0  \n",
       "4             0.0        0               0  "
      ]
     },
     "execution_count": 201,
     "metadata": {},
     "output_type": "execute_result"
    }
   ],
   "source": [
    "# dropping unnecessary columns like nameof origin and name of destination it is the transaction code of banks and it is unique for every bnk and may be till now \n",
    "pay=online.drop(labels=['nameorig','namedest'],axis=1)\n",
    "pay.head()#,pay.shape"
   ]
  },
  {
   "cell_type": "code",
   "execution_count": 203,
   "id": "dd2d2424-e048-45d1-a200-d2075af00955",
   "metadata": {},
   "outputs": [
    {
     "data": {
      "text/plain": [
       "(0, 543)"
      ]
     },
     "execution_count": 203,
     "metadata": {},
     "output_type": "execute_result"
    }
   ],
   "source": [
    "# checking duplicate value\n",
    "dup=online.duplicated().sum()\n",
    "dup1=pay.duplicated().sum()\n",
    "dup,dup1 # in original data we have no duplicate and hwen we remove the 'nameorig','namedest' then 543 duplicate occurs"
   ]
  },
  {
   "cell_type": "code",
   "execution_count": 206,
   "id": "ec77520e-3978-45b9-bf8e-95838fe5a008",
   "metadata": {},
   "outputs": [
    {
     "name": "stdout",
     "output_type": "stream",
     "text": [
      "zero in:  step 0\n",
      "zero in:  type 0\n",
      "zero in:  amount 16\n",
      "zero in:  nameorig 0\n",
      "zero in:  oldbalanceorg 2102449\n",
      "zero in:  newbalanceorig 3609566\n",
      "zero in:  namedest 0\n",
      "zero in:  oldbalancedest 2704388\n",
      "zero in:  newbalancedest 2439433\n",
      "zero in:  isfraud 6354407\n",
      "zero in:  isflaggedfraud 6362604\n"
     ]
    }
   ],
   "source": [
    "# Here we are checking any zero value present or not in any columns\n",
    "x=(online['type']==0).sum()\n",
    "x\n",
    "# instead of check all  columns  we make a loop\n",
    "for i in online.columns:\n",
    "    z=(online[i]==0).sum()\n",
    "    print('zero in: ',i,z)"
   ]
  },
  {
   "cell_type": "code",
   "execution_count": 213,
   "id": "7a82f0f8-1fcc-4000-bb2c-821164709ec7",
   "metadata": {},
   "outputs": [
    {
     "data": {
      "text/plain": [
       "(6362604, 11)"
      ]
     },
     "execution_count": 213,
     "metadata": {},
     "output_type": "execute_result"
    }
   ],
   "source": [
    "# we will take positive value of amount, because 16 zeros are present so no matter that transaction\n",
    "online['amount'].shape\n",
    "online=online[online['amount']>0].copy() # here we make a copy of non zero amount \n",
    "online.shape"
   ]
  },
  {
   "cell_type": "code",
   "execution_count": 215,
   "id": "4ec6ad5c-70e5-4343-bf60-c52aaf732774",
   "metadata": {},
   "outputs": [
    {
     "data": {
      "text/plain": [
       "type\n",
       "CASH_OUT    2237484\n",
       "PAYMENT     2151495\n",
       "CASH_IN     1399284\n",
       "TRANSFER     532909\n",
       "DEBIT         41432\n",
       "Name: count, dtype: int64"
      ]
     },
     "execution_count": 215,
     "metadata": {},
     "output_type": "execute_result"
    }
   ],
   "source": [
    "online.type.value_counts()"
   ]
  },
  {
   "cell_type": "markdown",
   "id": "777584e6-ae09-48ca-a6c8-dc47be93e48d",
   "metadata": {},
   "source": [
    "# EDA-EXPLORATORY DATA ANALYSIS"
   ]
  },
  {
   "cell_type": "code",
   "execution_count": 217,
   "id": "e0beecf6-3bfb-4178-85ac-0e78a76374b7",
   "metadata": {},
   "outputs": [
    {
     "data": {
      "text/plain": [
       "type\n",
       "1    2237484\n",
       "3    2151495\n",
       "0    1399284\n",
       "4     532909\n",
       "2      41432\n",
       "Name: count, dtype: int64"
      ]
     },
     "execution_count": 217,
     "metadata": {},
     "output_type": "execute_result"
    }
   ],
   "source": [
    "# we have now one object type  so encode it \n",
    "# data['type'] = data['type'].map({'CASH_OUT': 0, 'PAYMENT': 1, 'CASH_IN': 2, 'TRANSFER': 3, 'DEBIT': 4}) #or via encoding method\n",
    "encoding=LabelEncoder()\n",
    "online['type']=encoding.fit_transform(online['type'])\n",
    "online                                                      # alphabetcal encoding happening here\n",
    "online.type.value_counts()"
   ]
  },
  {
   "cell_type": "code",
   "execution_count": 221,
   "id": "9e29c84f-8f26-4c86-861a-8e4bd5ff2733",
   "metadata": {},
   "outputs": [
    {
     "data": {
      "image/png": "[encoded data removed]",
      "text/plain": [
       "<Figure size 640x480 with 1 Axes>"
      ]
     },
     "metadata": {},
     "output_type": "display_data"
    }
   ],
   "source": [
    "# visualize the fraud count\n",
    "sns.countplot(x=online['isfraud'],data=online)\n",
    "plt.title('count of isfraud ')\n",
    "plt.show()"
   ]
  },
  {
   "cell_type": "code",
   "execution_count": 239,
   "id": "8db2011c-c46c-4cca-81b9-a93c5c91985b",
   "metadata": {},
   "outputs": [
    {
     "ename": "ValueError",
     "evalue": "x and y must have same first dimension, but have shapes (6362604,) and (9,)",
     "output_type": "error",
     "traceback": [
      "\u001b[1;31m---------------------------------------------------------------------------\u001b[0m",
      "\u001b[1;31mValueError\u001b[0m                                Traceback (most recent call last)",
      "Cell \u001b[1;32mIn[239], line 2\u001b[0m\n\u001b[0;32m      1\u001b[0m \u001b[38;5;66;03m## we want to see which type of payment  is fraud \u001b[39;00m\n\u001b[1;32m----> 2\u001b[0m plt\u001b[38;5;241m.\u001b[39mplot(online[\u001b[38;5;124m'\u001b[39m\u001b[38;5;124misfraud\u001b[39m\u001b[38;5;124m'\u001b[39m],pay\u001b[38;5;241m.\u001b[39mcolumns,data\u001b[38;5;241m=\u001b[39monline)\n\u001b[0;32m      3\u001b[0m plt\u001b[38;5;241m.\u001b[39mshow()\n",
      "File \u001b[1;32mD:\\anaconda\\Lib\\site-packages\\matplotlib\\pyplot.py:3794\u001b[0m, in \u001b[0;36mplot\u001b[1;34m(scalex, scaley, data, *args, **kwargs)\u001b[0m\n\u001b[0;32m   3786\u001b[0m \u001b[38;5;129m@_copy_docstring_and_deprecators\u001b[39m(Axes\u001b[38;5;241m.\u001b[39mplot)\n\u001b[0;32m   3787\u001b[0m \u001b[38;5;28;01mdef\u001b[39;00m \u001b[38;5;21mplot\u001b[39m(\n\u001b[0;32m   3788\u001b[0m     \u001b[38;5;241m*\u001b[39margs: \u001b[38;5;28mfloat\u001b[39m \u001b[38;5;241m|\u001b[39m ArrayLike \u001b[38;5;241m|\u001b[39m \u001b[38;5;28mstr\u001b[39m,\n\u001b[1;32m   (...)\u001b[0m\n\u001b[0;32m   3792\u001b[0m     \u001b[38;5;241m*\u001b[39m\u001b[38;5;241m*\u001b[39mkwargs,\n\u001b[0;32m   3793\u001b[0m ) \u001b[38;5;241m-\u001b[39m\u001b[38;5;241m>\u001b[39m \u001b[38;5;28mlist\u001b[39m[Line2D]:\n\u001b[1;32m-> 3794\u001b[0m     \u001b[38;5;28;01mreturn\u001b[39;00m gca()\u001b[38;5;241m.\u001b[39mplot(\n\u001b[0;32m   3795\u001b[0m         \u001b[38;5;241m*\u001b[39margs,\n\u001b[0;32m   3796\u001b[0m         scalex\u001b[38;5;241m=\u001b[39mscalex,\n\u001b[0;32m   3797\u001b[0m         scaley\u001b[38;5;241m=\u001b[39mscaley,\n\u001b[0;32m   3798\u001b[0m         \u001b[38;5;241m*\u001b[39m\u001b[38;5;241m*\u001b[39m({\u001b[38;5;124m\"\u001b[39m\u001b[38;5;124mdata\u001b[39m\u001b[38;5;124m\"\u001b[39m: data} \u001b[38;5;28;01mif\u001b[39;00m data \u001b[38;5;129;01mis\u001b[39;00m \u001b[38;5;129;01mnot\u001b[39;00m \u001b[38;5;28;01mNone\u001b[39;00m \u001b[38;5;28;01melse\u001b[39;00m {}),\n\u001b[0;32m   3799\u001b[0m         \u001b[38;5;241m*\u001b[39m\u001b[38;5;241m*\u001b[39mkwargs,\n\u001b[0;32m   3800\u001b[0m     )\n",
      "File \u001b[1;32mD:\\anaconda\\Lib\\site-packages\\matplotlib\\axes\\_axes.py:1779\u001b[0m, in \u001b[0;36mAxes.plot\u001b[1;34m(self, scalex, scaley, data, *args, **kwargs)\u001b[0m\n\u001b[0;32m   1536\u001b[0m \u001b[38;5;250m\u001b[39m\u001b[38;5;124;03m\"\"\"\u001b[39;00m\n\u001b[0;32m   1537\u001b[0m \u001b[38;5;124;03mPlot y versus x as lines and/or markers.\u001b[39;00m\n\u001b[0;32m   1538\u001b[0m \n\u001b[1;32m   (...)\u001b[0m\n\u001b[0;32m   1776\u001b[0m \u001b[38;5;124;03m(``'green'``) or hex strings (``'#008000'``).\u001b[39;00m\n\u001b[0;32m   1777\u001b[0m \u001b[38;5;124;03m\"\"\"\u001b[39;00m\n\u001b[0;32m   1778\u001b[0m kwargs \u001b[38;5;241m=\u001b[39m cbook\u001b[38;5;241m.\u001b[39mnormalize_kwargs(kwargs, mlines\u001b[38;5;241m.\u001b[39mLine2D)\n\u001b[1;32m-> 1779\u001b[0m lines \u001b[38;5;241m=\u001b[39m [\u001b[38;5;241m*\u001b[39m\u001b[38;5;28mself\u001b[39m\u001b[38;5;241m.\u001b[39m_get_lines(\u001b[38;5;28mself\u001b[39m, \u001b[38;5;241m*\u001b[39margs, data\u001b[38;5;241m=\u001b[39mdata, \u001b[38;5;241m*\u001b[39m\u001b[38;5;241m*\u001b[39mkwargs)]\n\u001b[0;32m   1780\u001b[0m \u001b[38;5;28;01mfor\u001b[39;00m line \u001b[38;5;129;01min\u001b[39;00m lines:\n\u001b[0;32m   1781\u001b[0m     \u001b[38;5;28mself\u001b[39m\u001b[38;5;241m.\u001b[39madd_line(line)\n",
      "File \u001b[1;32mD:\\anaconda\\Lib\\site-packages\\matplotlib\\axes\\_base.py:296\u001b[0m, in \u001b[0;36m_process_plot_var_args.__call__\u001b[1;34m(self, axes, data, *args, **kwargs)\u001b[0m\n\u001b[0;32m    294\u001b[0m     this \u001b[38;5;241m+\u001b[39m\u001b[38;5;241m=\u001b[39m args[\u001b[38;5;241m0\u001b[39m],\n\u001b[0;32m    295\u001b[0m     args \u001b[38;5;241m=\u001b[39m args[\u001b[38;5;241m1\u001b[39m:]\n\u001b[1;32m--> 296\u001b[0m \u001b[38;5;28;01myield from\u001b[39;00m \u001b[38;5;28mself\u001b[39m\u001b[38;5;241m.\u001b[39m_plot_args(\n\u001b[0;32m    297\u001b[0m     axes, this, kwargs, ambiguous_fmt_datakey\u001b[38;5;241m=\u001b[39mambiguous_fmt_datakey)\n",
      "File \u001b[1;32mD:\\anaconda\\Lib\\site-packages\\matplotlib\\axes\\_base.py:486\u001b[0m, in \u001b[0;36m_process_plot_var_args._plot_args\u001b[1;34m(self, axes, tup, kwargs, return_kwargs, ambiguous_fmt_datakey)\u001b[0m\n\u001b[0;32m    483\u001b[0m     axes\u001b[38;5;241m.\u001b[39myaxis\u001b[38;5;241m.\u001b[39mupdate_units(y)\n\u001b[0;32m    485\u001b[0m \u001b[38;5;28;01mif\u001b[39;00m x\u001b[38;5;241m.\u001b[39mshape[\u001b[38;5;241m0\u001b[39m] \u001b[38;5;241m!=\u001b[39m y\u001b[38;5;241m.\u001b[39mshape[\u001b[38;5;241m0\u001b[39m]:\n\u001b[1;32m--> 486\u001b[0m     \u001b[38;5;28;01mraise\u001b[39;00m \u001b[38;5;167;01mValueError\u001b[39;00m(\u001b[38;5;124mf\u001b[39m\u001b[38;5;124m\"\u001b[39m\u001b[38;5;124mx and y must have same first dimension, but \u001b[39m\u001b[38;5;124m\"\u001b[39m\n\u001b[0;32m    487\u001b[0m                      \u001b[38;5;124mf\u001b[39m\u001b[38;5;124m\"\u001b[39m\u001b[38;5;124mhave shapes \u001b[39m\u001b[38;5;132;01m{\u001b[39;00mx\u001b[38;5;241m.\u001b[39mshape\u001b[38;5;132;01m}\u001b[39;00m\u001b[38;5;124m and \u001b[39m\u001b[38;5;132;01m{\u001b[39;00my\u001b[38;5;241m.\u001b[39mshape\u001b[38;5;132;01m}\u001b[39;00m\u001b[38;5;124m\"\u001b[39m)\n\u001b[0;32m    488\u001b[0m \u001b[38;5;28;01mif\u001b[39;00m x\u001b[38;5;241m.\u001b[39mndim \u001b[38;5;241m>\u001b[39m \u001b[38;5;241m2\u001b[39m \u001b[38;5;129;01mor\u001b[39;00m y\u001b[38;5;241m.\u001b[39mndim \u001b[38;5;241m>\u001b[39m \u001b[38;5;241m2\u001b[39m:\n\u001b[0;32m    489\u001b[0m     \u001b[38;5;28;01mraise\u001b[39;00m \u001b[38;5;167;01mValueError\u001b[39;00m(\u001b[38;5;124mf\u001b[39m\u001b[38;5;124m\"\u001b[39m\u001b[38;5;124mx and y can be no greater than 2D, but have \u001b[39m\u001b[38;5;124m\"\u001b[39m\n\u001b[0;32m    490\u001b[0m                      \u001b[38;5;124mf\u001b[39m\u001b[38;5;124m\"\u001b[39m\u001b[38;5;124mshapes \u001b[39m\u001b[38;5;132;01m{\u001b[39;00mx\u001b[38;5;241m.\u001b[39mshape\u001b[38;5;132;01m}\u001b[39;00m\u001b[38;5;124m and \u001b[39m\u001b[38;5;132;01m{\u001b[39;00my\u001b[38;5;241m.\u001b[39mshape\u001b[38;5;132;01m}\u001b[39;00m\u001b[38;5;124m\"\u001b[39m)\n",
      "\u001b[1;31mValueError\u001b[0m: x and y must have same first dimension, but have shapes (6362604,) and (9,)"
     ]
    },
    {
     "data": {
      "image/png": "[encoded data removed]",
      "text/plain": [
       "<Figure size 640x480 with 1 Axes>"
      ]
     },
     "metadata": {},
     "output_type": "display_data"
    }
   ],
   "source": [
    "## we want to see which type of payment is fraud \n",
    "selected_features = ['amount', 'oldbalanceOrg', 'newbalanceOrig', 'oldbalanceDest', 'newbalanceDest']\n",
    "\n",
    "# Create subplots (number of subplots is equal to the number of selected features)\n",
    "fig, axes = plt.subplots(1, len(selected_features), figsize=(20, 5))\n",
    "\n",
    "# Loop through each selected feature to create individual bar plots\n",
    "for i, feature in enumerate(selected_features):\n",
    "    sns.barplot(x=data['isFraud'], y=data[feature], hue=data['isFraud'], ax=axes[i], palette=\"Set2\")\n",
    "    axes[i].set_title(f'{feature} vs isFraud')  # Title for each subplot\n",
    "    axes[i].set_xlabel('isFraud') \n",
    "    axes[i].set_ylabel(feature)  \n",
    "\n",
    "# Add a title for the overall figure and adjust layout for better spacing\n",
    "plt.suptitle(\"Comparison of Selected Features with Target (Bar Plot)\", fontsize=16)\n",
    "plt.tight_layout()  \n",
    "plt.show()  "
   ]
  },
  {
   "cell_type": "code",
   "execution_count": null,
   "id": "ee124e42-a6e1-4b33-b74f-5599890eb6e8",
   "metadata": {},
   "outputs": [],
   "source": [
    "# Grab the value counts for the 'type' column to see the breakdown\n",
    "value_counts = data['type'].value_counts()\n",
    "print(\"Value Counts:\\n\", value_counts)\n",
    "\n",
    "# Plot a count plot to visualize transaction type popularity\n",
    "plt.figure(figsize=(8, 6))\n",
    "sns.countplot(data=data, x='type', order=value_counts.index, palette='viridis')\n",
    "plt.title('Count Plot of Transaction Types')\n",
    "plt.xlabel('Transaction Type')\n",
    "plt.ylabel('Count')\n",
    "plt.show()\n",
    "# Quick note: 0 = CASH_OUT, 1 = PAYMENT, 2 = CASH_IN, 3 = TRANSFER, 4 = DEBIT\n",
    "# This should highlight which type’s most frequent—pretty handy for spotting trends!"
   ]
  },
  {
   "cell_type": "code",
   "execution_count": null,
   "id": "09ea3d80-e3bf-499c-b270-c35626fe50a2",
   "metadata": {},
   "outputs": [],
   "source": [
    "# Create a contingency table (cross-tabulation) between isFraud and type\n",
    "contingency_table = pd.crosstab(data['isFraud'], data['type'])\n",
    "\n",
    "# Plot heatmap for the contingency table\n",
    "plt.figure(figsize=(8, 6))\n",
    "sns.heatmap(contingency_table, annot=True, fmt='d', cmap='Blues', cbar=False)\n",
    "\n",
    "plt.title('Heatmap of isFraud vs Type')\n",
    "plt.xlabel('Type')\n",
    "plt.ylabel('isFraud')\n",
    "plt.show()"
   ]
  },
  {
   "cell_type": "markdown",
   "id": "640365f5-0a79-4170-b6c9-9c5957dd1e19",
   "metadata": {},
   "source": [
    "# feature engineering"
   ]
  },
  {
   "cell_type": "code",
   "execution_count": null,
   "id": "747a7f2c-93a7-4628-95bc-42ef8fe3fb23",
   "metadata": {},
   "outputs": [],
   "source": [
    "# Define weights for transaction types (using numeric values)\n",
    "transaction_type_weights = {\n",
    "    0: 2.0,  # CASH_OUT\n",
    "    1: 1.0,  # PAYMENT\n",
    "    2: 1.0,  # CASH_IN\n",
    "    3: 2.0, # TRANSFER \n",
    "    4: 1.0  # DEBIT\n",
    "}\n",
    "\n",
    "# Assign weights with a default value for missing categories\n",
    "data['transaction_type_weight'] = data['type'].map(lambda x: transaction_type_weights.get(x, 1.0))"
   ]
  },
  {
   "cell_type": "code",
   "execution_count": null,
   "id": "ca43918c-28db-4f16-9a9e-b30c159d4994",
   "metadata": {},
   "outputs": [],
   "source": [
    "from sklearn.preprocessing import RobustScaler, MinMaxScaler, StandardScaler\n",
    "\n",
    "\n",
    "# Initialize scalers\n",
    "robust_scaler = RobustScaler()\n",
    " \n",
    "# Apply transformations\n",
    "data['amount_scaled'] = robust_scaler.fit_transform(data[['amount']])\n",
    "\n",
    "# Apply log transformation to prevent zero dominance\n",
    "data['oldbalanceOrg_log'] = np.log1p(data['oldbalanceOrg'])\n",
    "data['newbalanceOrig_log'] = np.log1p(data['newbalanceOrig'])\n",
    "data['oldbalanceDest_log'] = np.log1p(data['oldbalanceDest'])\n",
    "data['newbalanceDest_log'] = np.log1p(data['newbalanceDest'])\n",
    "\n",
    "# Check scaled data\n",
    "print(data[['amount_scaled', 'oldbalanceOrg_log', 'newbalanceOrig_log',\n",
    "                        'oldbalanceDest_log', 'newbalanceDest_log']].describe())"
   ]
  },
  {
   "cell_type": "code",
   "execution_count": null,
   "id": "19423e76-44ab-489e-b10b-cfb794b4c740",
   "metadata": {},
   "outputs": [],
   "source": [
    "# Define amount bins and labels\n",
    "bins = [0, 100, 500, 1000, 5000, 10000, 50000, 100000, 1000000, float('inf')]\n",
    "labels = ['0-100', '100-500', '500-1K', '1K-5K', '5K-10K', '10K-50K', '50K-100K', '100K+', '1000K+']\n",
    "\n",
    "# Bin the transaction amounts\n",
    "data['amount_bin'] = pd.cut(data['amount'], bins=bins, labels=labels)\n",
    "\n",
    "# Calculate fraud rate per bin (in a separate DataFrame)\n",
    "fraud_rate = data.groupby('amount_bin')['isFraud'].agg(['count', 'sum']).rename(\n",
    "    columns={'count': 'Total Transactions', 'sum': 'Fraudulent Transactions'}\n",
    ")\n",
    "fraud_rate['Fraud Rate'] = fraud_rate['Fraudulent Transactions'] / fraud_rate['Total Transactions']\n",
    "\n",
    "# Reset index for readability\n",
    "fraud_rate = fraud_rate.reset_index()\n",
    "\n",
    "# Display fraud rate per bin\n",
    "print(\"Fraud Rate per Bin:\")\n",
    "print(fraud_rate)"
   ]
  },
  {
   "cell_type": "code",
   "execution_count": null,
   "id": "c7ab2e84-6d22-4183-8660-cc6af40786d5",
   "metadata": {},
   "outputs": [],
   "source": [
    "# Define weights for each transaction amount bin\n",
    "bin_weights = {\n",
    "    '0-100': 1.0,\n",
    "    '100-500': 1.0,\n",
    "    '500-1K': 1.0,\n",
    "    '1K-5K': 1.0,\n",
    "    '5K-10K': 1.0,\n",
    "    '10K-50K': 1.0,\n",
    "    '50K-100K': 1.0,\n",
    "    '100K+': 1.5,\n",
    "    '1000K+': 2.0\n",
    "}\n",
    "\n",
    "# Assign bin weights to the data DataFrame\n",
    "data['bin_weight'] = data['amount_bin'].map(lambda x: bin_weights.get(x, 1.0))"
   ]
  },
  {
   "cell_type": "code",
   "execution_count": null,
   "id": "9b1066f0-a743-487c-be03-7361cc89d9f1",
   "metadata": {},
   "outputs": [],
   "source": [
    "plt.figure(figsize=(10, 6))\n",
    "sns.violinplot(x='isFraud', y='amount_scaled', data=data, palette='Set2', inner='quartile')\n",
    "\n",
    "plt.title(\"Transaction Amount Distribution: Fraud vs. Non-Fraud\")\n",
    "plt.xlabel(\"Fraud (0 = No, 1 = Yes)\")\n",
    "plt.ylabel(\"Log-Scaled Transaction Amount\")\n",
    "plt.ylim(0, 100)\n",
    "plt.show()"
   ]
  },
  {
   "cell_type": "code",
   "execution_count": null,
   "id": "eb49434f-8ce8-434d-b754-a4b4bef46b04",
   "metadata": {},
   "outputs": [],
   "source": [
    "import seaborn as sns\n",
    "import matplotlib.pyplot as plt\n",
    "\n",
    "plt.figure(figsize=(12, 6))\n",
    "sns.barplot(x='amount_bin', y='Fraud Rate', data=fraud_rate, palette='coolwarm')\n",
    "\n",
    "plt.title('Fraud Rate by Transaction Amount')\n",
    "plt.xlabel('Transaction Amount Range')\n",
    "plt.ylabel('Fraud Rate')\n",
    "plt.xticks(rotation=45)\n",
    "plt.show()"
   ]
  },
  {
   "cell_type": "code",
   "execution_count": null,
   "id": "eb936486-8cf0-47f7-ae72-16d974565c56",
   "metadata": {},
   "outputs": [],
   "source": [
    "data.head(30)"
   ]
  },
  {
   "cell_type": "code",
   "execution_count": null,
   "id": "1451cdf4-15f2-4930-b323-eabc1a457980",
   "metadata": {},
   "outputs": [],
   "source": [
    "import warnings\n",
    "\n",
    "# Suppress FutureWarnings\n",
    "warnings.simplefilter(action='ignore', category=FutureWarning)\n",
    "\n",
    "# KDE plot for non-fraudulent transactions\n",
    "sns.kdeplot(data=data[data['isFraud'] == 0], \n",
    "            x='oldbalanceOrg_log', label='Non-Fraud', fill=True, color='blue')\n",
    "\n",
    "# KDE plot for fraudulent transactions\n",
    "sns.kdeplot(data=data[data['isFraud'] == 1], \n",
    "            x='oldbalanceOrg_log', label='Fraud', fill=True, color='red')\n",
    "\n",
    "# Add labels and title\n",
    "plt.xlabel(\"Log of Old Balance\")\n",
    "plt.ylabel(\"Density\")\n",
    "plt.title(\"Distribution of Log Old Balance for Fraud & Non-Fraud Transactions\")\n",
    "plt.legend()\n",
    "plt.show()"
   ]
  },
  {
   "cell_type": "code",
   "execution_count": null,
   "id": "2affd226-709e-4233-a09f-e8dee545300d",
   "metadata": {},
   "outputs": [],
   "source": [
    "# KDE plot for non-fraudulent transactions\n",
    "sns.kdeplot(data=data[data['isFraud'] == 0], \n",
    "            x='newbalanceOrig_log', label='Non-Fraud', fill=True, color='blue')\n",
    "\n",
    "# KDE plot for fraudulent transactions\n",
    "sns.kdeplot(data=data[data['isFraud'] == 1], \n",
    "            x='newbalanceOrig_log', label='Fraud', fill=True, color='red')\n",
    "\n",
    "# Add labels and title\n",
    "plt.xlabel(\"Log of New Balance\")\n",
    "plt.ylabel(\"Density\")\n",
    "plt.title(\"Distribution of Log New Balance for Fraud & Non-Fraud Transactions\")\n",
    "plt.legend()\n",
    "plt.show()"
   ]
  },
  {
   "cell_type": "code",
   "execution_count": null,
   "id": "1df20002-6da7-4678-8f98-4a970bf408aa",
   "metadata": {},
   "outputs": [],
   "source": [
    "# KDE plot for non-fraudulent transactions\n",
    "sns.kdeplot(data=data[data['isFraud'] == 0], \n",
    "            x='oldbalanceDest_log', label='Non-Fraud', fill=True, color='blue')\n",
    "\n",
    "# KDE plot for fraudulent transactions\n",
    "sns.kdeplot(data=data[data['isFraud'] == 1], \n",
    "            x='oldbalanceDest_log', label='Fraud', fill=True, color='red')\n",
    "\n",
    "# Add labels and title\n",
    "plt.xlabel(\"Log of Old Balance (Receiver)\")\n",
    "plt.ylabel(\"Density\")\n",
    "plt.title(\"Distribution of Log Old Balance for Fraud & Non-Fraud Transactions (Receiver)\")\n",
    "plt.legend()\n",
    "plt.show()"
   ]
  },
  {
   "cell_type": "code",
   "execution_count": null,
   "id": "7d2373ad-d621-4180-8fc4-f87d6ef38acf",
   "metadata": {},
   "outputs": [],
   "source": [
    "# Set figure size\n",
    "plt.figure(figsize=(8, 6))\n",
    "\n",
    "# KDE plot for non-fraudulent transactions\n",
    "sns.kdeplot(data=data[data['isFraud'] == 0], \n",
    "            x='newbalanceDest_log', label='Non-Fraud', fill=True, color='blue')\n",
    "\n",
    "# KDE plot for fraudulent transactions\n",
    "sns.kdeplot(data=data[data['isFraud'] == 1], \n",
    "            x='newbalanceDest_log', label='Fraud', fill=True, color='red')\n",
    "\n",
    "# Add labels and title\n",
    "plt.xlabel(\"Log of New Balance (Receiver)\")\n",
    "plt.ylabel(\"Density\")\n",
    "plt.title(\"Distribution of Log New Balance for Fraud & Non-Fraud Transactions (Receiver)\")\n",
    "plt.legend()\n",
    "plt.show()"
   ]
  },
  {
   "cell_type": "code",
   "execution_count": null,
   "id": "8d42681c-def2-4788-a799-f6cd8565e361",
   "metadata": {},
   "outputs": [],
   "source": [
    "# Combine weights\n",
    "data['combined_weight'] = data['transaction_type_weight'] * data['bin_weight']"
   ]
  },
  {
   "cell_type": "code",
   "execution_count": null,
   "id": "ee6dcb51-cf69-4bda-9626-8dd1a61a264c",
   "metadata": {},
   "outputs": [],
   "source": [
    "from sklearn.impute import SimpleImputer\n",
    "# Initialize SimpleImputer with strategy='median'\n",
    "imputer = SimpleImputer(strategy='median')\n",
    "\n",
    "# Apply imputer to specific columns\n",
    "data[['oldbalanceOrg','oldbalanceDest','newbalanceOrig','newbalanceDest']] = imputer.fit_transform(data[['oldbalanceOrg','oldbalanceDest','newbalanceOrig','newbalanceDest']])"
   ]
  },
  {
   "cell_type": "code",
   "execution_count": null,
   "id": "94d89bf6-3527-4391-a271-bd2fd77df714",
   "metadata": {},
   "outputs": [],
   "source": [
    "data['balance_diff_Org'] = data['oldbalanceOrg'] - data['newbalanceOrig']\n",
    "data['balance_diff_Dest']= data['oldbalanceDest'] - data['newbalanceDest']"
   ]
  },
  {
   "cell_type": "code",
   "execution_count": null,
   "id": "f5800a46-685a-4f66-9907-162b96dd18d4",
   "metadata": {},
   "outputs": [],
   "source": [
    "data['balance_diff_Org_log'] = np.log1p(data['balance_diff_Org'])  # Log(x+1) for non-negative values\n",
    "data['balance_diff_Dest_log'] = np.log1p(data['balance_diff_Dest'])"
   ]
  },
  {
   "cell_type": "code",
   "execution_count": null,
   "id": "d8943df7-eefc-4771-bacb-f61d61a67673",
   "metadata": {},
   "outputs": [],
   "source": [
    "# Replace infinite values with NaN to handle potential errors\n",
    "data.replace([np.inf, -np.inf], np.nan, inplace=True)\n",
    "\n",
    "# Define columns to scale (only those that exist)\n",
    "columns_to_scale = [\n",
    "    'balance_diff_Org_log',\n",
    "    'balance_diff_Dest_log',\n",
    "    'balance_diff_Org'\n",
    "]\n",
    "\n",
    "# Ensure all columns exist before scaling\n",
    "columns_to_scale = [col for col in columns_to_scale if col in data.columns]\n",
    "\n",
    "# Initialize RobustScaler\n",
    "scaler = RobustScaler()\n",
    "\n",
    "# Apply scaling only to existing columns\n",
    "data[columns_to_scale] = scaler.fit_transform(data[columns_to_scale])\n",
    "\n",
    "# Display the first few rows of scaled data\n",
    "print(\"Scaling complete. First few rows of scaled data:\")\n",
    "print(data.head())"
   ]
  },
  {
   "cell_type": "code",
   "execution_count": null,
   "id": "6b3a0d01-eed7-405f-9b7f-ef6a6addc070",
   "metadata": {},
   "outputs": [],
   "source": [
    "# Scatter plot of Amount vs Balance Difference\n",
    "sns.scatterplot(x='amount', y='balance_diff_Org', hue='isFraud', data=data, alpha=0.5)\n",
    "\n",
    "# Add titles and labels\n",
    "plt.title('Amount vs Balance Difference (Origin Account)')\n",
    "plt.xlabel('Transaction Amount')\n",
    "plt.ylabel('Balance Difference (Old - New)')\n",
    "plt.show()\n"
   ]
  },
  {
   "cell_type": "code",
   "execution_count": null,
   "id": "88bf7d36-794c-4b85-85bd-a09f2ef997e8",
   "metadata": {},
   "outputs": [],
   "source": [
    "# Scatter plot of Amount vs Destination Balance Difference\n",
    "sns.scatterplot(x='amount', y='balance_diff_Dest', hue='isFraud', data=data, alpha=0.5)\n",
    "\n",
    "# Add titles and labels\n",
    "plt.title('Amount vs Balance Difference (Destination Account)')\n",
    "plt.xlabel('Transaction Amount')\n",
    "plt.ylabel('Balance Difference (Old - New)')\n",
    "plt.show()"
   ]
  },
  {
   "cell_type": "code",
   "execution_count": null,
   "id": "d1ca2592-f2f3-4a30-aaab-fde05e5446c6",
   "metadata": {},
   "outputs": [],
   "source": [
    "# Drop irrelevant columns and original variables\n",
    "columns_to_drop = ['step','amount','oldbalanceOrg','newbalanceOrig','newbalanceDest','oldbalanceDest','isFlaggedFraud','transaction_type_weight','bin_weight','amount_bin',\"nameOrig\",\"nameDest\" ]\n",
    "\n",
    "# Drop the specified columns\n",
    "data = data.drop(columns=columns_to_drop)\n",
    "\n",
    "# Check  the remaining columns\n",
    "print(data.head())"
   ]
  },
  {
   "cell_type": "code",
   "execution_count": null,
   "id": "22b00b8f-caa0-4b29-a41c-f6c05bb6f01a",
   "metadata": {},
   "outputs": [],
   "source": [
    "import seaborn as sns\n",
    "import matplotlib.pyplot as plt\n",
    "\n",
    "corr = data.select_dtypes(include=[np.number]).corr()\n",
    "\n",
    "plt.figure(figsize=(10, 8))\n",
    "sns.heatmap(corr, annot=True, cmap=\"coolwarm\", fmt=\".2f\")\n",
    "plt.show()"
   ]
  },
  {
   "cell_type": "code",
   "execution_count": null,
   "id": "2841be59-d98b-4a05-b4ef-bfd7301e3be1",
   "metadata": {},
   "outputs": [],
   "source": [
    "columns_to_drop = [ 'balance_diff_Dest','balance_diff_Dest_log','balance_diff_Org_log','newbalanceDest_log']\n",
    "       \n",
    "\n",
    "# Drop the specified columns\n",
    "data = data.drop(columns=columns_to_drop)\n",
    "\n",
    "# Check the updated DataFrame\n",
    "print(data.head())"
   ]
  },
  {
   "cell_type": "code",
   "execution_count": null,
   "id": "6a779cd8-cbac-443a-8f55-ffe847966bc8",
   "metadata": {},
   "outputs": [],
   "source": [
    "from statsmodels.stats.outliers_influence import variance_inflation_factor\n",
    "\n",
    "# Grab the numerical columns we want to check for multicollinearity\n",
    "X = data[['amount_scaled', 'oldbalanceOrg_log', 'newbalanceOrig_log', 'oldbalanceDest_log', 'balance_diff_Org']]\n",
    "\n",
    "# Set up a DataFrame to store the VIF results\n",
    "vif_data = pd.DataFrame()\n",
    "vif_data[\"Feature\"] = X.columns  # List the features we're checking\n",
    "vif_data[\"VIF\"] = [variance_inflation_factor(X.values, i) for i in range(len(X.columns))]  # Calculate VIF for each feature\n",
    "\n",
    "# Show the VIF results to see which features might be too correlated\n",
    "print(vif_data)"
   ]
  },
  {
   "cell_type": "code",
   "execution_count": null,
   "id": "d3216176-3943-4c7c-8a38-f170bb4217f2",
   "metadata": {},
   "outputs": [],
   "source": [
    "# List the column we want to drop because it's too correlated with others\n",
    "columns_to_drop = ['oldbalanceOrg_log']\n",
    "\n",
    "# Drop the column from the dataset\n",
    "data = data.drop(columns=columns_to_drop)\n",
    "\n",
    "# Take a quick look at the updated dataset to make sure the column is gone\n",
    "print(data.head())"
   ]
  },
  {
   "cell_type": "code",
   "execution_count": null,
   "id": "fccfb1ba-7d35-46f7-ad50-41ba44151ee7",
   "metadata": {},
   "outputs": [],
   "source": [
    "print(data.columns)"
   ]
  },
  {
   "cell_type": "code",
   "execution_count": null,
   "id": "0a8ac501-4cf4-4539-b83d-c2ca795ef0c5",
   "metadata": {},
   "outputs": [],
   "source": [
    "data"
   ]
  },
  {
   "cell_type": "code",
   "execution_count": null,
   "id": "1d1b54ed-1324-4798-b1fb-dcfb5e0eb6d1",
   "metadata": {},
   "outputs": [],
   "source": [
    "# Import necessary libraries\n",
    "from sklearn.metrics import classification_report, accuracy_score, confusion_matrix\n",
    "from sklearn.model_selection import train_test_split\n",
    "from sklearn.linear_model import SGDClassifier  # Using SGDClassifier for faster training\n",
    "from imblearn.over_sampling import SMOTE\n",
    "from imblearn.under_sampling import RandomUnderSampler\n",
    "import numpy as np\n",
    "import pandas as pd\n",
    "\n",
    "# Separate features (X) and target (y), but keep 'combined_weight' for now\n",
    "X = data.drop(columns=['isFraud'])  # Features (excluding the target)\n",
    "y = data['isFraud']  # Target variable\n",
    "\n",
    "# Downsample the majority class to reduce dataset size (optional, adjust sampling_strategy)\n",
    "rus = RandomUnderSampler(sampling_strategy=0.1, random_state=42)  # Keep 10% of the majority class\n",
    "X_under, y_under = rus.fit_resample(X, y)\n",
    "\n",
    "# Apply SMOTE to balance classes (optimized with k_neighbors=1 for speed)\n",
    "smote = SMOTE(sampling_strategy=0.5, k_neighbors=1, random_state=42)  # Balance classes\n",
    "X_resampled, y_resampled = smote.fit_resample(X_under, y_under)\n",
    "\n",
    "# Separate 'combined_weight' from the features\n",
    "combined_weight_resampled = X_resampled['combined_weight']  # Extract sample weights\n",
    "X_resampled = X_resampled.drop(columns=['combined_weight'])  # Drop weights from features\n",
    "\n",
    "# Convert to NumPy arrays for faster processing\n",
    "X_resampled, y_resampled = X_resampled.values, y_resampled.values\n",
    "\n",
    "# Single stratified train-test split\n",
    "X_train, X_test, y_train, y_test, weights_train, weights_test = train_test_split(\n",
    "    X_resampled, y_resampled, combined_weight_resampled,\n",
    "    test_size=0.2,  # 20% for testing\n",
    "    stratify=y_resampled,  # Preserve class balance\n",
    "    random_state=42  # For reproducibility\n",
    ")\n",
    "\n",
    "# Define a faster model (SGDClassifier with log loss for logistic regression)\n",
    "model = SGDClassifier(\n",
    "    loss='log_loss',  # Equivalent to logistic regression\n",
    "    penalty='l1',  # L1 regularization for feature selection\n",
    "    alpha=0.0001,  # Regularization strength\n",
    "    max_iter=1000,  # Maximum iterations\n",
    "    tol=1e-3,  # Tolerance for stopping\n",
    "    random_state=42,  # For reproducibility\n",
    "    n_jobs=-1  # Use all CPU cores for faster training\n",
    ")\n",
    "\n",
    "# Train the model with sample weights\n",
    "model.fit(X_train, y_train, sample_weight=weights_train)\n",
    "\n",
    "# Make predictions on the test set\n",
    "y_pred = model.predict(X_test)\n",
    "\n",
    "# Evaluate the model\n",
    "accuracy = accuracy_score(y_test, y_pred)  # Calculate accuracy\n",
    "report = classification_report(y_test, y_pred)  # Generate classification report\n",
    "conf_matrix = confusion_matrix(y_test, y_pred)  # Generate confusion matrix\n",
    "\n",
    "# Print results\n",
    "print(f\" Accuracy: {accuracy:.4f}\")\n",
    "print(\"\\n Classification Report:\\n\", report)\n",
    "print(\"\\n Confusion Matrix:\\n\", conf_matrix)"
   ]
  },
  {
   "cell_type": "code",
   "execution_count": null,
   "id": "e5ee8305-b0e0-423a-b3ba-ca2bec85ffa3",
   "metadata": {},
   "outputs": [],
   "source": []
  },
  {
   "cell_type": "code",
   "execution_count": null,
   "id": "2f18ae5d-55b1-4b8f-b5d4-509abba0293c",
   "metadata": {},
   "outputs": [],
   "source": []
  },
  {
   "cell_type": "code",
   "execution_count": null,
   "id": "1c10fe74-32ce-4d2a-8b29-cf1a07ad3352",
   "metadata": {},
   "outputs": [],
   "source": []
  },
  {
   "cell_type": "code",
   "execution_count": null,
   "id": "3e9aaa1b-44d3-4861-987c-62d83a266d02",
   "metadata": {},
   "outputs": [],
   "source": []
  },
  {
   "cell_type": "code",
   "execution_count": null,
   "id": "93ac641b-3462-479f-b587-cd86958a92fd",
   "metadata": {},
   "outputs": [],
   "source": []
  },
  {
   "cell_type": "code",
   "execution_count": null,
   "id": "118937df-5791-49a2-a27a-aa4f0140999a",
   "metadata": {},
   "outputs": [],
   "source": []
  },
  {
   "cell_type": "code",
   "execution_count": null,
   "id": "a939fad5-20ba-4caf-8ddd-163a7dc15cd9",
   "metadata": {},
   "outputs": [],
   "source": []
  },
  {
   "cell_type": "code",
   "execution_count": null,
   "id": "59a6de7e-c6af-48a1-b04f-eef26b6829c2",
   "metadata": {},
   "outputs": [],
   "source": []
  },
  {
   "cell_type": "code",
   "execution_count": null,
   "id": "62c86dc7-3c24-4532-99ea-491675d965d3",
   "metadata": {},
   "outputs": [],
   "source": []
  },
  {
   "cell_type": "code",
   "execution_count": null,
   "id": "8c789e4a-de2a-4054-8253-5c8350a13f48",
   "metadata": {},
   "outputs": [],
   "source": []
  },
  {
   "cell_type": "code",
   "execution_count": null,
   "id": "1ad19f29-8146-4f5a-bc17-5bbf50276884",
   "metadata": {},
   "outputs": [],
   "source": []
  },
  {
   "cell_type": "code",
   "execution_count": null,
   "id": "a6702538-a89e-4817-8d66-c2c7649d3f4c",
   "metadata": {},
   "outputs": [],
   "source": []
  },
  {
   "cell_type": "code",
   "execution_count": null,
   "id": "14ee2be6-325c-431a-ac4d-185f4c889564",
   "metadata": {},
   "outputs": [],
   "source": []
  },
  {
   "cell_type": "code",
   "execution_count": null,
   "id": "a7f9e1a8-7961-423e-9f65-871dff81088e",
   "metadata": {},
   "outputs": [],
   "source": []
  },
  {
   "cell_type": "code",
   "execution_count": null,
   "id": "989b671c-6b0b-4d3c-b4a7-a1cb7ad212be",
   "metadata": {},
   "outputs": [],
   "source": []
  },
  {
   "cell_type": "code",
   "execution_count": null,
   "id": "4c6b2608-3e37-413e-88fd-32b8d2743aa7",
   "metadata": {},
   "outputs": [],
   "source": []
  }
 ],
 "metadata": {
  "kernelspec": {
   "display_name": "Python [conda env:base] *",
   "language": "python",
   "name": "conda-base-py"
  },
  "language_info": {
   "codemirror_mode": {
    "name": "ipython",
    "version": 3
   },
   "file_extension": ".py",
   "mimetype": "text/x-python",
   "name": "python",
   "nbconvert_exporter": "python",
   "pygments_lexer": "ipython3",
   "version": "3.12.7"
  }
 },
 "nbformat": 4,
 "nbformat_minor": 5
}
